{
 "cells": [
  {
   "cell_type": "code",
   "execution_count": 1,
   "id": "a8490902-92dd-4d48-8f2c-a040541e70d0",
   "metadata": {},
   "outputs": [],
   "source": [
    "import urllib.request, json\n",
    "\n",
    "def get_flyer_id(location_zip_code):\n",
    "    url = \"https://api.flipp.com/flyerkit/v4.0/publications/jewelosco?access_token=aedcc3dc3afc882f187dbdd32b6db995&locale=en-US&postal_code=\"+location_zip_code\n",
    "    dl = []\n",
    "    with urllib.request.urlopen(url) as url:\n",
    "        data = json.load(url)\n",
    "        for item in data:\n",
    "            if(item['name'] == 'Weekly Ad'):\n",
    "                dl.append(item['id'])\n",
    "    if(len(dl) > 0):\n",
    "        return(dl[0])\n"
   ]
  },
  {
   "cell_type": "code",
   "execution_count": 7,
   "id": "5050411d-6489-4cf6-86ce-beb503efb18e",
   "metadata": {},
   "outputs": [],
   "source": [
    "import urllib.request, json\n",
    "import csv\n",
    "import pandas as pd\n",
    "\n",
    "location = \"60502\"\n",
    "\n",
    "flyer_id = get_flyer_id(location)\n",
    "\n",
    "base_url = \"https://dam.flippenterprise.net/flyerkit/publication/\"+str(flyer_id)+\"/products?display_type=all&source=hosted2&locale=en&access_token=aedcc3dc3afc882f187dbdd32b6db995\"\n",
    "\n",
    "data_list = []\n",
    "\n",
    "with urllib.request.urlopen(base_url) as url:\n",
    "    data = json.load(url)\n",
    "    for item in data:\n",
    "        temp_dict = {}\n",
    "        temp_dict['ID'] = item['id']\n",
    "        temp_dict['name'] = item['name']\n",
    "        temp_dict['valid_from'] = item['valid_from']\n",
    "        temp_dict['valid_to'] = item['valid_to']\n",
    "        temp_dict['price'] = item['price_text']\n",
    "        data_list.append(temp_dict)\n",
    "\n",
    "data = {}\n",
    "\n",
    "data[\"jewel_osco\"] = data_list\n",
    "\n",
    "\n",
    "with open(\"data.json\",\"w\") as f:\n",
    "    json.dump(data,f)"
   ]
  },
  {
   "cell_type": "code",
   "execution_count": null,
   "id": "8e066258-2266-475b-a410-298588d5f2be",
   "metadata": {},
   "outputs": [],
   "source": []
  }
 ],
 "metadata": {
  "kernelspec": {
   "display_name": "Python 3 (ipykernel)",
   "language": "python",
   "name": "python3"
  },
  "language_info": {
   "codemirror_mode": {
    "name": "ipython",
    "version": 3
   },
   "file_extension": ".py",
   "mimetype": "text/x-python",
   "name": "python",
   "nbconvert_exporter": "python",
   "pygments_lexer": "ipython3",
   "version": "3.11.0"
  }
 },
 "nbformat": 4,
 "nbformat_minor": 5
}
