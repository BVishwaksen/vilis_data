{
 "cells": [
  {
   "cell_type": "code",
   "execution_count": 2,
   "id": "6856b1e7-0229-4945-a7e7-50a1e07ef74a",
   "metadata": {},
   "outputs": [],
   "source": [
    "import requests\n",
    "import json"
   ]
  },
  {
   "cell_type": "code",
   "execution_count": 3,
   "id": "d38f5889-e5f6-407a-a9f5-fe6b8234ca08",
   "metadata": {},
   "outputs": [],
   "source": [
    "import urllib.request, json\n",
    "\n",
    "def get_flyer_id(store_id):\n",
    "    url = \"https://dam.flippenterprise.net/flyerkit/publications/marianos?source=hosted2&locale=en&access_token=e844fc32cb3e6059c74cda9986b1eb6a&show_storefronts=true&store_code=\"+str(store_id)\n",
    "    dl = []\n",
    "    with urllib.request.urlopen(url) as url:\n",
    "        data = json.load(url)\n",
    "        for item in data:\n",
    "            if(item['name'] == 'Weekly Ad'):\n",
    "                dl.append(item['id'])\n",
    "    if(len(dl) > 0):\n",
    "        return(dl[0])"
   ]
  },
  {
   "cell_type": "code",
   "execution_count": 5,
   "id": "c5ca4236-d808-4807-a9e3-b3bd2df3d861",
   "metadata": {},
   "outputs": [
    {
     "name": "stderr",
     "output_type": "stream",
     "text": [
      "C:\\Users\\Karthik\\AppData\\Local\\Temp\\ipykernel_26604\\1987608066.py:26: FutureWarning: Passing literal json to 'read_json' is deprecated and will be removed in a future version. To read from a literal string, wrap it in a 'StringIO' object.\n",
      "  master_df = pd.read_json(json_object)\n"
     ]
    },
    {
     "data": {
      "text/html": [
       "<div>\n",
       "<style scoped>\n",
       "    .dataframe tbody tr th:only-of-type {\n",
       "        vertical-align: middle;\n",
       "    }\n",
       "\n",
       "    .dataframe tbody tr th {\n",
       "        vertical-align: top;\n",
       "    }\n",
       "\n",
       "    .dataframe thead th {\n",
       "        text-align: right;\n",
       "    }\n",
       "</style>\n",
       "<table border=\"1\" class=\"dataframe\">\n",
       "  <thead>\n",
       "    <tr style=\"text-align: right;\">\n",
       "      <th></th>\n",
       "      <th>ID</th>\n",
       "      <th>name</th>\n",
       "      <th>valid_from</th>\n",
       "      <th>valid_to</th>\n",
       "      <th>price</th>\n",
       "    </tr>\n",
       "  </thead>\n",
       "  <tbody>\n",
       "    <tr>\n",
       "      <th>0</th>\n",
       "      <td>820065593</td>\n",
       "      <td>Private Selection Bread</td>\n",
       "      <td>2024-02-14</td>\n",
       "      <td>2024-02-20</td>\n",
       "      <td>5.00</td>\n",
       "    </tr>\n",
       "    <tr>\n",
       "      <th>1</th>\n",
       "      <td>820065920</td>\n",
       "      <td>Kroger Dinner Sausage</td>\n",
       "      <td>2024-02-14</td>\n",
       "      <td>2024-02-20</td>\n",
       "      <td>3.99</td>\n",
       "    </tr>\n",
       "    <tr>\n",
       "      <th>2</th>\n",
       "      <td>820065508</td>\n",
       "      <td>Cod Fillets</td>\n",
       "      <td>2024-02-14</td>\n",
       "      <td>2024-02-20</td>\n",
       "      <td>5.99</td>\n",
       "    </tr>\n",
       "    <tr>\n",
       "      <th>3</th>\n",
       "      <td>820065512</td>\n",
       "      <td>Local Organic Salmon Fillets</td>\n",
       "      <td>2024-02-14</td>\n",
       "      <td>2024-02-20</td>\n",
       "      <td>12.99</td>\n",
       "    </tr>\n",
       "    <tr>\n",
       "      <th>4</th>\n",
       "      <td>820065839</td>\n",
       "      <td>4X FUEL POINTS</td>\n",
       "      <td>2024-02-14</td>\n",
       "      <td>2024-02-20</td>\n",
       "      <td></td>\n",
       "    </tr>\n",
       "  </tbody>\n",
       "</table>\n",
       "</div>"
      ],
      "text/plain": [
       "          ID                          name  valid_from    valid_to  price\n",
       "0  820065593       Private Selection Bread  2024-02-14  2024-02-20   5.00\n",
       "1  820065920         Kroger Dinner Sausage  2024-02-14  2024-02-20   3.99\n",
       "2  820065508                   Cod Fillets  2024-02-14  2024-02-20   5.99\n",
       "3  820065512  Local Organic Salmon Fillets  2024-02-14  2024-02-20  12.99\n",
       "4  820065839                4X FUEL POINTS  2024-02-14  2024-02-20       "
      ]
     },
     "execution_count": 5,
     "metadata": {},
     "output_type": "execute_result"
    }
   ],
   "source": [
    "import urllib.request, json\n",
    "import csv\n",
    "import pandas as pd\n",
    "\n",
    "store_id = \"00519\"\n",
    "\n",
    "flyer_id = get_flyer_id(store_id)\n",
    "\n",
    "base_url = \"https://dam.flippenterprise.net/flyerkit/publication/\"+str(flyer_id)+\"/products?display_type=all&source=hosted2&locale=en&access_token=e844fc32cb3e6059c74cda9986b1eb6a\"\n",
    "\n",
    "data_list = []\n",
    "\n",
    "with urllib.request.urlopen(base_url) as url:\n",
    "    data = json.load(url)\n",
    "    for item in data:\n",
    "        temp_dict = {}\n",
    "        temp_dict['ID'] = item['id']\n",
    "        temp_dict['name'] = item['name']\n",
    "        temp_dict['valid_from'] = item['valid_from']\n",
    "        temp_dict['valid_to'] = item['valid_to']\n",
    "        temp_dict['price'] = item['price_text']\n",
    "        data_list.append(temp_dict)\n",
    "\n",
    "json_object = json.dumps(data_list)\n",
    "\n",
    "master_df = pd.read_json(json_object)\n",
    "master_df.head()"
   ]
  },
  {
   "cell_type": "code",
   "execution_count": null,
   "id": "53b6ed49-f11d-42d9-ab64-f3d3ed5b3bcf",
   "metadata": {},
   "outputs": [],
   "source": []
  }
 ],
 "metadata": {
  "kernelspec": {
   "display_name": "Python 3 (ipykernel)",
   "language": "python",
   "name": "python3"
  },
  "language_info": {
   "codemirror_mode": {
    "name": "ipython",
    "version": 3
   },
   "file_extension": ".py",
   "mimetype": "text/x-python",
   "name": "python",
   "nbconvert_exporter": "python",
   "pygments_lexer": "ipython3",
   "version": "3.11.0"
  }
 },
 "nbformat": 4,
 "nbformat_minor": 5
}
